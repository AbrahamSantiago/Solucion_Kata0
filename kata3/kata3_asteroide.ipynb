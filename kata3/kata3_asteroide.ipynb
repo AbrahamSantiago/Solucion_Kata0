{
 "cells": [
  {
   "cell_type": "markdown",
   "metadata": {},
   "source": [
    "## Código 1"
   ]
  },
  {
   "cell_type": "code",
   "execution_count": 1,
   "metadata": {},
   "outputs": [
    {
     "name": "stdout",
     "output_type": "stream",
     "text": [
      "ADVERTRNCIA, EL ASTEROIDE VA IMPACTAR CON LA TIERRA\n"
     ]
    }
   ],
   "source": [
    "velocidad_Asteroide= 49.0\n",
    "Asteroide_en_tierra=25\n",
    "\n",
    "if velocidad_Asteroide>Asteroide_en_tierra:\n",
    "    print('ADVERTRNCIA, EL ASTEROIDE PASARÁ MUY CERCA DE LA TIERRA')\n",
    "else:\n",
    "    print('El asteroide no es una amenza para la tierra')                          \n"
   ]
  },
  {
   "cell_type": "markdown",
   "metadata": {},
   "source": [
    "## Código 2"
   ]
  },
  {
   "cell_type": "code",
   "execution_count": 5,
   "metadata": {},
   "outputs": [
    {
     "name": "stdout",
     "output_type": "stream",
     "text": [
      "El Asteroide va auna velocida menor a 20km/s, por lo que no se verán las luces de su trayectoria\n"
     ]
    }
   ],
   "source": [
    "velocidad_Asteroide_k_s= 25\n",
    "luces_asteroide=20\n",
    "\n",
    "if velocidad_Asteroide_k_s>luces_asteroide:\n",
    "    print('Personas de la tierra, miren al cielo, que verán las luces de un asteroide')\n",
    "elif velocidad_Asteroide_k_s==luces_asteroide:\n",
    "    print('Personas de la tierra, se podrá apreciar las luces de un asteroide')  \n",
    "else:\n",
    "    print('El Asteroide va auna velocida menor a 20km/s, por lo que no se verán las luces de su trayectoria')  "
   ]
  },
  {
   "cell_type": "markdown",
   "metadata": {},
   "source": [
    "## Código 3\n",
    "### Uso de 'and' y 'or'"
   ]
  },
  {
   "cell_type": "code",
   "execution_count": 11,
   "metadata": {},
   "outputs": [
    {
     "name": "stdout",
     "output_type": "stream",
     "text": [
      "¡¡Podremos apreciar las luces del asteroide en nuestro cielo!!\n"
     ]
    }
   ],
   "source": [
    "Tamaño_Asteroide_metros=int(input('Ingrese el tamaño de dimensión del asteroide en metros'))\n",
    "limite_tamaño_dimension=25\n",
    "Asteroide_C3=24\n",
    "\n",
    "if Asteroide_C3>25 and Tamaño_Asteroide_metros>limite_tamaño_dimension:\n",
    "    print('ADVERTENCIA, UN ASTEROIDE CON EL TAMAÑO PARA DAÑAR EL PLANTEA, VA IMPACTAR PRONTO')\n",
    "elif Asteroide_C3>=20 and Asteroide_C3<25:\n",
    "    print('¡¡Podremos apreciar las luces del asteroide en nuestro cielo!!')\n",
    "elif Tamaño_Asteroide_metros<limite_tamaño_dimension:\n",
    "    print('Estamos fuera de peligro')\n",
    "else:\n",
    "    print('No hay ninguna advertencia')"
   ]
  }
 ],
 "metadata": {
  "interpreter": {
   "hash": "63fd5069d213b44bf678585dea6b12cceca9941eaf7f819626cde1f2670de90d"
  },
  "kernelspec": {
   "display_name": "Python 3.9.7 64-bit",
   "language": "python",
   "name": "python3"
  },
  "language_info": {
   "codemirror_mode": {
    "name": "ipython",
    "version": 3
   },
   "file_extension": ".py",
   "mimetype": "text/x-python",
   "name": "python",
   "nbconvert_exporter": "python",
   "pygments_lexer": "ipython3",
   "version": "3.9.7"
  },
  "orig_nbformat": 4
 },
 "nbformat": 4,
 "nbformat_minor": 2
}
