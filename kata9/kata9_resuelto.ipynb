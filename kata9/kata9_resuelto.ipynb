{
 "cells": [
  {
   "cell_type": "markdown",
   "metadata": {},
   "source": [
    "# Ejercicio 1"
   ]
  },
  {
   "cell_type": "code",
   "execution_count": 13,
   "metadata": {},
   "outputs": [],
   "source": [
    "def combustible_cohete(tanque1, tanque2, tanque3):\n",
    "    total=(tanque1+tanque2+tanque3) /3\n",
    "    return f\"\"\"Fuel Report :\n",
    "    Promedio Total: {total}%\n",
    "    Tanque 1: {tanque1}%\n",
    "    Tanque 2: {tanque2}%\n",
    "    Tanque 3: {tanque3}%\n",
    "    \"\"\""
   ]
  },
  {
   "cell_type": "code",
   "execution_count": 14,
   "metadata": {},
   "outputs": [
    {
     "name": "stdout",
     "output_type": "stream",
     "text": [
      "Fuel Report :\n",
      "    Promedio Total: 78.33333333333333%\n",
      "    Tanque 1: 80%\n",
      "    Tanque 2: 70%\n",
      "    Tanque 3: 85%\n",
      "    \n"
     ]
    }
   ],
   "source": [
    "print(combustible_cohete(80,70,85))"
   ]
  },
  {
   "cell_type": "code",
   "execution_count": 15,
   "metadata": {},
   "outputs": [
    {
     "data": {
      "text/plain": [
       "82.0"
      ]
     },
     "execution_count": 15,
     "metadata": {},
     "output_type": "execute_result"
    }
   ],
   "source": [
    "def Promedio(datos):\n",
    "    total_d= sum(datos)\n",
    "    elementos= len(datos)\n",
    "    return total_d/elementos\n",
    "\n",
    "Promedio([80, 85, 81])"
   ]
  },
  {
   "cell_type": "code",
   "execution_count": 16,
   "metadata": {},
   "outputs": [
    {
     "name": "stdout",
     "output_type": "stream",
     "text": [
      "Fuel Report:\n",
      "    Total Promedio: 78.0%\n",
      "    Tanque 1: 88% \n",
      "    Tanque 2: 76%\n",
      "    Tanque 3: 70% \n",
      "    \n"
     ]
    }
   ],
   "source": [
    "def Reporte(tanque1, tanque2, tanque3):\n",
    "    return f\"\"\"Fuel Report:\n",
    "    Total Promedio: {Promedio([tanque1,tanque2,tanque3])}%\n",
    "    Tanque 1: {tanque1}% \n",
    "    Tanque 2: {tanque2}%\n",
    "    Tanque 3: {tanque3}% \n",
    "    \"\"\"\n",
    "print(Reporte(88,76,70))"
   ]
  },
  {
   "cell_type": "markdown",
   "metadata": {},
   "source": [
    "# Ejercicio 2"
   ]
  },
  {
   "cell_type": "code",
   "execution_count": 19,
   "metadata": {},
   "outputs": [
    {
     "name": "stdout",
     "output_type": "stream",
     "text": [
      " Mision a Luna\n",
      "    Tiempo de viaje: 65 minutos\n",
      "    Combustible restante:320000 galones\n",
      "    \n"
     ]
    }
   ],
   "source": [
    "def Informe_Mision(hora_prelanzamiento,tiempo_vuelo,destino,tanque_externo,tanque_principal):\n",
    "    return f\"\"\" Mision a {destino}\n",
    "    Tiempo de viaje: {hora_prelanzamiento+tiempo_vuelo} minutos\n",
    "    Combustible restante:{tanque_externo+tanque_principal} galones\n",
    "    \"\"\"\n",
    "print(Informe_Mision(14,51,\"Luna\",20000, 300000))"
   ]
  },
  {
   "cell_type": "code",
   "execution_count": 20,
   "metadata": {},
   "outputs": [
    {
     "name": "stdout",
     "output_type": "stream",
     "text": [
      " Mision a Marte\n",
      "    Tiempo de viaje: 76 minutos\n",
      "    Combustible restante 650000 galones\n",
      "    \n"
     ]
    }
   ],
   "source": [
    "def new_Informe_mision(destino,*minutes,**combustible_reserva):\n",
    "    return f\"\"\" Mision a {destino}\n",
    "    Tiempo de viaje: {sum(minutes)} minutos\n",
    "    Combustible restante {sum(combustible_reserva.values())} galones\n",
    "    \"\"\"\n",
    "print(new_Informe_mision(\"Marte\",10,15,51,principal=400000, externo=250000))\n",
    "    "
   ]
  },
  {
   "cell_type": "code",
   "execution_count": 24,
   "metadata": {},
   "outputs": [
    {
     "name": "stdout",
     "output_type": "stream",
     "text": [
      "\n",
      "    Mision a La Luna\n",
      "    Tiempo de viaje: 74 minutos\n",
      "    Combustible restante: 21500    Tanque principal = 20000 galones restantes\n",
      "    Tanque externo = 1500 galones restantes\n",
      "\n"
     ]
    }
   ],
   "source": [
    "def second_Informe(destino,*minutos,**combustible_reserva):\n",
    "    reporte_principal=f\"\"\"\n",
    "    Mision a {destino}\n",
    "    Tiempo de viaje: {sum(minutos)} minutos\n",
    "    Combustible restante: {sum(combustible_reserva.values())}\"\"\"\n",
    "    for nombre_tanque, galones in combustible_reserva.items():\n",
    "        reporte_principal+=f\"    Tanque {nombre_tanque} = {galones} galones restantes\\n\"\n",
    "    return reporte_principal\n",
    "print(second_Informe(\"La Luna\",8,11,55, principal=20000, externo=1500))\n",
    "    \n",
    "    "
   ]
  }
 ],
 "metadata": {
  "interpreter": {
   "hash": "63fd5069d213b44bf678585dea6b12cceca9941eaf7f819626cde1f2670de90d"
  },
  "kernelspec": {
   "display_name": "Python 3.9.7 64-bit",
   "language": "python",
   "name": "python3"
  },
  "language_info": {
   "codemirror_mode": {
    "name": "ipython",
    "version": 3
   },
   "file_extension": ".py",
   "mimetype": "text/x-python",
   "name": "python",
   "nbconvert_exporter": "python",
   "pygments_lexer": "ipython3",
   "version": "3.9.7"
  },
  "orig_nbformat": 4
 },
 "nbformat": 4,
 "nbformat_minor": 2
}
