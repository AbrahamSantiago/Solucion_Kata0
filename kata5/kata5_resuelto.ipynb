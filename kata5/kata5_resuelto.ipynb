{
 "cells": [
  {
   "cell_type": "markdown",
   "metadata": {},
   "source": [
    "# Ejercicio 1"
   ]
  },
  {
   "cell_type": "code",
   "execution_count": 5,
   "metadata": {},
   "outputs": [],
   "source": [
    "Distancia_Tierra_km= 149597870\n",
    "Distancia_Jupiter_km=778547200"
   ]
  },
  {
   "cell_type": "code",
   "execution_count": 6,
   "metadata": {},
   "outputs": [
    {
     "name": "stdout",
     "output_type": "stream",
     "text": [
      "La distancia de los 2 planetas es= 628949330\n",
      "En millas=  390577533.93\n"
     ]
    }
   ],
   "source": [
    "Planetas_Distancia= Distancia_Jupiter_km-Distancia_Tierra_km\n",
    "print('La distancia de los 2 planetas es=', Planetas_Distancia)\n",
    "print('En millas= ',Planetas_Distancia*0.621)"
   ]
  },
  {
   "cell_type": "markdown",
   "metadata": {},
   "source": [
    "# Ejercicio 2"
   ]
  },
  {
   "cell_type": "code",
   "execution_count": 10,
   "metadata": {},
   "outputs": [],
   "source": [
    "# Almacenar las entradas del usuario\n",
    "Distancia_Sol_P1=input(\"Ingrese la distancia del Sol del palneta 1: \")\n",
    "Distancia_Sol_P2=input(\"Ingrese la distancia del Sol y Jupiter en kiómetros: \")"
   ]
  },
  {
   "cell_type": "code",
   "execution_count": 13,
   "metadata": {},
   "outputs": [],
   "source": [
    "Distancia_Sol_P1=int(Distancia_Sol_P1)\n",
    "Distancia_Sol_P2=int(Distancia_Sol_P2)"
   ]
  },
  {
   "cell_type": "code",
   "execution_count": 14,
   "metadata": {},
   "outputs": [
    {
     "name": "stdout",
     "output_type": "stream",
     "text": [
      "-522211\n",
      "324293.031\n"
     ]
    }
   ],
   "source": [
    "Distancia_km= Distancia_Sol_P2 - Distancia_Sol_P1\n",
    "print(Distancia_km)\n",
    "Distancia_millas=Distancia_km * 0.621\n",
    "print(abs(Distancia_millas))"
   ]
  }
 ],
 "metadata": {
  "interpreter": {
   "hash": "63fd5069d213b44bf678585dea6b12cceca9941eaf7f819626cde1f2670de90d"
  },
  "kernelspec": {
   "display_name": "Python 3.9.7 64-bit",
   "language": "python",
   "name": "python3"
  },
  "language_info": {
   "codemirror_mode": {
    "name": "ipython",
    "version": 3
   },
   "file_extension": ".py",
   "mimetype": "text/x-python",
   "name": "python",
   "nbconvert_exporter": "python",
   "pygments_lexer": "ipython3",
   "version": "3.9.7"
  },
  "orig_nbformat": 4
 },
 "nbformat": 4,
 "nbformat_minor": 2
}
